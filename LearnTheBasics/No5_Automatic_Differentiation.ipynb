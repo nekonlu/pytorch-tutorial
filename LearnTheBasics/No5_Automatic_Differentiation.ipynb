{
 "cells": [
  {
   "cell_type": "code",
   "execution_count": 8,
   "metadata": {
    "collapsed": true,
    "pycharm": {
     "name": "#%%\n"
    }
   },
   "outputs": [
    {
     "name": "stdout",
     "output_type": "stream",
     "text": [
      "x\n",
      " tensor([1., 1., 1., 1., 1.])\n",
      "y\n",
      " tensor([0., 0., 0.])\n",
      "w\n",
      " tensor([[-0.4972, -0.0772,  1.5887],\n",
      "        [ 0.6711, -1.5223,  0.8504],\n",
      "        [ 0.3846,  0.7639,  0.3122],\n",
      "        [-0.3213, -0.3808, -0.0429],\n",
      "        [ 0.4316,  0.6882,  0.2414]], requires_grad=True)\n",
      "b\n",
      " tensor([-0.1511,  0.7399, -0.3804], requires_grad=True)\n",
      "z\n",
      " tensor([0.5178, 0.2117, 2.5694], grad_fn=<AddBackward0>)\n",
      "loss\n",
      " tensor(1.4777, grad_fn=<BinaryCrossEntropyWithLogitsBackward0>)\n"
     ]
    }
   ],
   "source": [
    "import torch\n",
    "\n",
    "x = torch.ones(5)  # input tensor\n",
    "print(\"x\\n\", x)\n",
    "\n",
    "y = torch.zeros(3)  # expected output\n",
    "print(\"y\\n\", y)\n",
    "\n",
    "w = torch.randn(5, 3, requires_grad=True)\n",
    "print(\"w\\n\", w)\n",
    "\n",
    "b = torch.randn(3, requires_grad=True)\n",
    "print(\"b\\n\", b)\n",
    "\n",
    "z = torch.matmul(x, w)+b\n",
    "print(\"z\\n\", z)\n",
    "\n",
    "loss = torch.nn.functional.binary_cross_entropy_with_logits(z, y)\n",
    "print(\"loss\\n\", loss)"
   ]
  },
  {
   "cell_type": "code",
   "execution_count": 10,
   "outputs": [],
   "source": [
    "loss.backward()"
   ],
   "metadata": {
    "collapsed": false,
    "pycharm": {
     "name": "#%%\n"
    }
   }
  },
  {
   "cell_type": "code",
   "execution_count": 11,
   "outputs": [
    {
     "data": {
      "text/plain": "tensor([[0.2089, 0.1842, 0.3096],\n        [0.2089, 0.1842, 0.3096],\n        [0.2089, 0.1842, 0.3096],\n        [0.2089, 0.1842, 0.3096],\n        [0.2089, 0.1842, 0.3096]])"
     },
     "execution_count": 11,
     "metadata": {},
     "output_type": "execute_result"
    }
   ],
   "source": [
    "w.grad"
   ],
   "metadata": {
    "collapsed": false,
    "pycharm": {
     "name": "#%%\n"
    }
   }
  },
  {
   "cell_type": "code",
   "execution_count": 13,
   "outputs": [
    {
     "data": {
      "text/plain": "tensor([0.2089, 0.1842, 0.3096])"
     },
     "execution_count": 13,
     "metadata": {},
     "output_type": "execute_result"
    }
   ],
   "source": [
    "b.grad"
   ],
   "metadata": {
    "collapsed": false,
    "pycharm": {
     "name": "#%%\n"
    }
   }
  },
  {
   "cell_type": "code",
   "execution_count": null,
   "outputs": [],
   "source": [],
   "metadata": {
    "collapsed": false,
    "pycharm": {
     "name": "#%%\n"
    }
   }
  },
  {
   "cell_type": "markdown",
   "source": [],
   "metadata": {
    "collapsed": false,
    "pycharm": {
     "name": "#%% md\n"
    }
   }
  }
 ],
 "metadata": {
  "kernelspec": {
   "display_name": "Python 3",
   "language": "python",
   "name": "python3"
  },
  "language_info": {
   "codemirror_mode": {
    "name": "ipython",
    "version": 2
   },
   "file_extension": ".py",
   "mimetype": "text/x-python",
   "name": "python",
   "nbconvert_exporter": "python",
   "pygments_lexer": "ipython2",
   "version": "2.7.6"
  }
 },
 "nbformat": 4,
 "nbformat_minor": 0
}