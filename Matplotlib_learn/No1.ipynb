{
 "cells": [
  {
   "cell_type": "code",
   "execution_count": 1,
   "outputs": [],
   "source": [
    "import matplotlib.pyplot as plt\n",
    "import pandas as pd"
   ],
   "metadata": {
    "collapsed": false,
    "pycharm": {
     "name": "#%%\n"
    }
   }
  },
  {
   "cell_type": "code",
   "execution_count": 4,
   "outputs": [],
   "source": [
    "df = pd.read_csv(\"sample_data/california_housing_train.csv\")"
   ],
   "metadata": {
    "collapsed": false,
    "pycharm": {
     "name": "#%%\n"
    }
   }
  },
  {
   "cell_type": "code",
   "execution_count": 5,
   "outputs": [
    {
     "data": {
      "text/plain": "   longitude  latitude  housing_median_age  total_rooms  total_bedrooms  \\\n0    -114.31     34.19                15.0       5612.0          1283.0   \n1    -114.47     34.40                19.0       7650.0          1901.0   \n2    -114.56     33.69                17.0        720.0           174.0   \n3    -114.57     33.64                14.0       1501.0           337.0   \n4    -114.57     33.57                20.0       1454.0           326.0   \n\n   population  households  median_income  median_house_value  \n0      1015.0       472.0         1.4936             66900.0  \n1      1129.0       463.0         1.8200             80100.0  \n2       333.0       117.0         1.6509             85700.0  \n3       515.0       226.0         3.1917             73400.0  \n4       624.0       262.0         1.9250             65500.0  ",
      "text/html": "<div>\n<style scoped>\n    .dataframe tbody tr th:only-of-type {\n        vertical-align: middle;\n    }\n\n    .dataframe tbody tr th {\n        vertical-align: top;\n    }\n\n    .dataframe thead th {\n        text-align: right;\n    }\n</style>\n<table border=\"1\" class=\"dataframe\">\n  <thead>\n    <tr style=\"text-align: right;\">\n      <th></th>\n      <th>longitude</th>\n      <th>latitude</th>\n      <th>housing_median_age</th>\n      <th>total_rooms</th>\n      <th>total_bedrooms</th>\n      <th>population</th>\n      <th>households</th>\n      <th>median_income</th>\n      <th>median_house_value</th>\n    </tr>\n  </thead>\n  <tbody>\n    <tr>\n      <th>0</th>\n      <td>-114.31</td>\n      <td>34.19</td>\n      <td>15.0</td>\n      <td>5612.0</td>\n      <td>1283.0</td>\n      <td>1015.0</td>\n      <td>472.0</td>\n      <td>1.4936</td>\n      <td>66900.0</td>\n    </tr>\n    <tr>\n      <th>1</th>\n      <td>-114.47</td>\n      <td>34.40</td>\n      <td>19.0</td>\n      <td>7650.0</td>\n      <td>1901.0</td>\n      <td>1129.0</td>\n      <td>463.0</td>\n      <td>1.8200</td>\n      <td>80100.0</td>\n    </tr>\n    <tr>\n      <th>2</th>\n      <td>-114.56</td>\n      <td>33.69</td>\n      <td>17.0</td>\n      <td>720.0</td>\n      <td>174.0</td>\n      <td>333.0</td>\n      <td>117.0</td>\n      <td>1.6509</td>\n      <td>85700.0</td>\n    </tr>\n    <tr>\n      <th>3</th>\n      <td>-114.57</td>\n      <td>33.64</td>\n      <td>14.0</td>\n      <td>1501.0</td>\n      <td>337.0</td>\n      <td>515.0</td>\n      <td>226.0</td>\n      <td>3.1917</td>\n      <td>73400.0</td>\n    </tr>\n    <tr>\n      <th>4</th>\n      <td>-114.57</td>\n      <td>33.57</td>\n      <td>20.0</td>\n      <td>1454.0</td>\n      <td>326.0</td>\n      <td>624.0</td>\n      <td>262.0</td>\n      <td>1.9250</td>\n      <td>65500.0</td>\n    </tr>\n  </tbody>\n</table>\n</div>"
     },
     "execution_count": 5,
     "metadata": {},
     "output_type": "execute_result"
    }
   ],
   "source": [
    "df.head()"
   ],
   "metadata": {
    "collapsed": false,
    "pycharm": {
     "name": "#%%\n"
    }
   }
  },
  {
   "cell_type": "code",
   "execution_count": 8,
   "outputs": [
    {
     "data": {
      "text/plain": "<matplotlib.collections.PathCollection at 0x1402311f0>"
     },
     "execution_count": 8,
     "metadata": {},
     "output_type": "execute_result"
    },
    {
     "data": {
      "text/plain": "<Figure size 432x288 with 1 Axes>",
      "image/png": "[encoded data removed]"
     },
     "metadata": {
      "needs_background": "light"
     },
     "output_type": "display_data"
    }
   ],
   "source": [
    "plt.scatter(df[\"latitude\"], df[\"longitude\"])"
   ],
   "metadata": {
    "collapsed": false,
    "pycharm": {
     "name": "#%%\n"
    }
   }
  },
  {
   "cell_type": "code",
   "execution_count": 14,
   "outputs": [
    {
     "data": {
      "text/plain": "(array([ 333.,  664.,  189.,  212.,  100.,  368., 1465., 2526., 2567.,\n         493.,  205.,  108.,  106.,   57.,  136.,  141.,   52.,   25.,\n          62.,  102.,  131.,  192.,  384.,  199.,  143.,  830.,  513.,\n        1285.,  866.,  384.,  275.,  414.,  483.,  114.,  144.,  156.,\n          89.,   38.,   94.,   26.,   32.,   33.,   94.,   65.,   40.,\n          12.,   10.,   10.,   16.,   17.]),\n array([32.54  , 32.7282, 32.9164, 33.1046, 33.2928, 33.481 , 33.6692,\n        33.8574, 34.0456, 34.2338, 34.422 , 34.6102, 34.7984, 34.9866,\n        35.1748, 35.363 , 35.5512, 35.7394, 35.9276, 36.1158, 36.304 ,\n        36.4922, 36.6804, 36.8686, 37.0568, 37.245 , 37.4332, 37.6214,\n        37.8096, 37.9978, 38.186 , 38.3742, 38.5624, 38.7506, 38.9388,\n        39.127 , 39.3152, 39.5034, 39.6916, 39.8798, 40.068 , 40.2562,\n        40.4444, 40.6326, 40.8208, 41.009 , 41.1972, 41.3854, 41.5736,\n        41.7618, 41.95  ]),\n <BarContainer object of 50 artists>)"
     },
     "execution_count": 14,
     "metadata": {},
     "output_type": "execute_result"
    },
    {
     "data": {
      "text/plain": "<Figure size 432x288 with 1 Axes>",
      "image/png": "[encoded data removed]"
     },
     "metadata": {
      "needs_background": "light"
     },
     "output_type": "display_data"
    }
   ],
   "source": [
    "plt.hist(df['latitude'], bins=50)"
   ],
   "metadata": {
    "collapsed": false,
    "pycharm": {
     "name": "#%%\n"
    }
   }
  },
  {
   "cell_type": "code",
   "execution_count": 15,
   "outputs": [],
   "source": [
    "import numpy as np"
   ],
   "metadata": {
    "collapsed": false,
    "pycharm": {
     "name": "#%%\n"
    }
   }
  },
  {
   "cell_type": "code",
   "execution_count": 33,
   "outputs": [
    {
     "name": "stdout",
     "output_type": "stream",
     "text": [
      "[0.         0.11111111 0.22222222 0.33333333 0.44444444 0.55555556\n",
      " 0.66666667 0.77777778 0.88888889 1.        ]\n"
     ]
    }
   ],
   "source": [
    "x = np.linspace(0, 1, 10)\n",
    "print(x)"
   ],
   "metadata": {
    "collapsed": false,
    "pycharm": {
     "name": "#%%\n"
    }
   }
  },
  {
   "cell_type": "code",
   "execution_count": 34,
   "outputs": [
    {
     "name": "stdout",
     "output_type": "stream",
     "text": [
      "[0.         0.22222222 0.44444444 0.66666667 0.88888889 1.11111111\n",
      " 1.33333333 1.55555556 1.77777778 2.        ]\n"
     ]
    }
   ],
   "source": [
    "y = 2 * x\n",
    "print(y)"
   ],
   "metadata": {
    "collapsed": false,
    "pycharm": {
     "name": "#%%\n"
    }
   }
  },
  {
   "cell_type": "code",
   "execution_count": 35,
   "outputs": [
    {
     "data": {
      "text/plain": "[<matplotlib.lines.Line2D at 0x141eeaca0>]"
     },
     "execution_count": 35,
     "metadata": {},
     "output_type": "execute_result"
    },
    {
     "data": {
      "text/plain": "<Figure size 432x288 with 1 Axes>",
      "image/png": "[encoded data removed]"
     },
     "metadata": {
      "needs_background": "light"
     },
     "output_type": "display_data"
    }
   ],
   "source": [
    "plt.plot(x, y)"
   ],
   "metadata": {
    "collapsed": false,
    "pycharm": {
     "name": "#%%\n"
    }
   }
  },
  {
   "cell_type": "code",
   "execution_count": 36,
   "outputs": [
    {
     "name": "stderr",
     "output_type": "stream",
     "text": [
      "/var/folders/t2/5krsgwsn1b9bc39l8vvp20vh0000gn/T/ipykernel_80815/2102492075.py:1: RuntimeWarning: divide by zero encountered in divide\n",
      "  y = 1 / x\n"
     ]
    },
    {
     "data": {
      "text/plain": "[<matplotlib.lines.Line2D at 0x141f56040>]"
     },
     "execution_count": 36,
     "metadata": {},
     "output_type": "execute_result"
    },
    {
     "data": {
      "text/plain": "<Figure size 432x288 with 1 Axes>",
      "image/png": "[encoded data removed]"
     },
     "metadata": {
      "needs_background": "light"
     },
     "output_type": "display_data"
    }
   ],
   "source": [
    "y = 1 / x\n",
    "plt.plot(x, y)"
   ],
   "metadata": {
    "collapsed": false,
    "pycharm": {
     "name": "#%%\n"
    }
   }
  },
  {
   "cell_type": "code",
   "execution_count": null,
   "outputs": [],
   "source": [],
   "metadata": {
    "collapsed": false,
    "pycharm": {
     "name": "#%%\n"
    }
   }
  }
 ],
 "metadata": {
  "kernelspec": {
   "display_name": "Python 3",
   "language": "python",
   "name": "python3"
  },
  "language_info": {
   "codemirror_mode": {
    "name": "ipython",
    "version": 2
   },
   "file_extension": ".py",
   "mimetype": "text/x-python",
   "name": "python",
   "nbconvert_exporter": "python",
   "pygments_lexer": "ipython2",
   "version": "2.7.6"
  }
 },
 "nbformat": 4,
 "nbformat_minor": 0
}