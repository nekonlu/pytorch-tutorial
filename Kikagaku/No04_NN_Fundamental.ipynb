{
 "cells": [
  {
   "cell_type": "code",
   "execution_count": 231,
   "outputs": [],
   "source": [
    "from sklearn.datasets import load_iris\n",
    "import numpy as np"
   ],
   "metadata": {
    "collapsed": false,
    "pycharm": {
     "name": "#%%\n"
    }
   }
  },
  {
   "cell_type": "code",
   "execution_count": 232,
   "outputs": [],
   "source": [
    "x, t = load_iris(return_X_y=True)"
   ],
   "metadata": {
    "collapsed": false,
    "pycharm": {
     "name": "#%%\n"
    }
   }
  },
  {
   "cell_type": "code",
   "execution_count": 233,
   "outputs": [
    {
     "data": {
      "text/plain": "((150, 4), (150,))"
     },
     "execution_count": 233,
     "metadata": {},
     "output_type": "execute_result"
    }
   ],
   "source": [
    "x.shape, t.shape"
   ],
   "metadata": {
    "collapsed": false,
    "pycharm": {
     "name": "#%%\n"
    }
   }
  },
  {
   "cell_type": "code",
   "execution_count": 234,
   "outputs": [
    {
     "name": "stdout",
     "output_type": "stream",
     "text": [
      "<class 'numpy.ndarray'>\n",
      "<class 'numpy.ndarray'>\n"
     ]
    }
   ],
   "source": [
    "print(type(x))\n",
    "print(type(t))"
   ],
   "metadata": {
    "collapsed": false,
    "pycharm": {
     "name": "#%%\n"
    }
   }
  },
  {
   "cell_type": "code",
   "execution_count": 235,
   "outputs": [],
   "source": [
    "import torch\n",
    "import torch.nn as nn\n",
    "import torch.nn.functional as F"
   ],
   "metadata": {
    "collapsed": false,
    "pycharm": {
     "name": "#%%\n"
    }
   }
  },
  {
   "cell_type": "code",
   "execution_count": 236,
   "outputs": [
    {
     "data": {
      "text/plain": "(tensor([[5.1000, 3.5000, 1.4000, 0.2000],\n         [4.9000, 3.0000, 1.4000, 0.2000],\n         [4.7000, 3.2000, 1.3000, 0.2000],\n         [4.6000, 3.1000, 1.5000, 0.2000],\n         [5.0000, 3.6000, 1.4000, 0.2000],\n         [5.4000, 3.9000, 1.7000, 0.4000],\n         [4.6000, 3.4000, 1.4000, 0.3000],\n         [5.0000, 3.4000, 1.5000, 0.2000],\n         [4.4000, 2.9000, 1.4000, 0.2000],\n         [4.9000, 3.1000, 1.5000, 0.1000],\n         [5.4000, 3.7000, 1.5000, 0.2000],\n         [4.8000, 3.4000, 1.6000, 0.2000],\n         [4.8000, 3.0000, 1.4000, 0.1000],\n         [4.3000, 3.0000, 1.1000, 0.1000],\n         [5.8000, 4.0000, 1.2000, 0.2000],\n         [5.7000, 4.4000, 1.5000, 0.4000],\n         [5.4000, 3.9000, 1.3000, 0.4000],\n         [5.1000, 3.5000, 1.4000, 0.3000],\n         [5.7000, 3.8000, 1.7000, 0.3000],\n         [5.1000, 3.8000, 1.5000, 0.3000],\n         [5.4000, 3.4000, 1.7000, 0.2000],\n         [5.1000, 3.7000, 1.5000, 0.4000],\n         [4.6000, 3.6000, 1.0000, 0.2000],\n         [5.1000, 3.3000, 1.7000, 0.5000],\n         [4.8000, 3.4000, 1.9000, 0.2000],\n         [5.0000, 3.0000, 1.6000, 0.2000],\n         [5.0000, 3.4000, 1.6000, 0.4000],\n         [5.2000, 3.5000, 1.5000, 0.2000],\n         [5.2000, 3.4000, 1.4000, 0.2000],\n         [4.7000, 3.2000, 1.6000, 0.2000],\n         [4.8000, 3.1000, 1.6000, 0.2000],\n         [5.4000, 3.4000, 1.5000, 0.4000],\n         [5.2000, 4.1000, 1.5000, 0.1000],\n         [5.5000, 4.2000, 1.4000, 0.2000],\n         [4.9000, 3.1000, 1.5000, 0.2000],\n         [5.0000, 3.2000, 1.2000, 0.2000],\n         [5.5000, 3.5000, 1.3000, 0.2000],\n         [4.9000, 3.6000, 1.4000, 0.1000],\n         [4.4000, 3.0000, 1.3000, 0.2000],\n         [5.1000, 3.4000, 1.5000, 0.2000],\n         [5.0000, 3.5000, 1.3000, 0.3000],\n         [4.5000, 2.3000, 1.3000, 0.3000],\n         [4.4000, 3.2000, 1.3000, 0.2000],\n         [5.0000, 3.5000, 1.6000, 0.6000],\n         [5.1000, 3.8000, 1.9000, 0.4000],\n         [4.8000, 3.0000, 1.4000, 0.3000],\n         [5.1000, 3.8000, 1.6000, 0.2000],\n         [4.6000, 3.2000, 1.4000, 0.2000],\n         [5.3000, 3.7000, 1.5000, 0.2000],\n         [5.0000, 3.3000, 1.4000, 0.2000],\n         [7.0000, 3.2000, 4.7000, 1.4000],\n         [6.4000, 3.2000, 4.5000, 1.5000],\n         [6.9000, 3.1000, 4.9000, 1.5000],\n         [5.5000, 2.3000, 4.0000, 1.3000],\n         [6.5000, 2.8000, 4.6000, 1.5000],\n         [5.7000, 2.8000, 4.5000, 1.3000],\n         [6.3000, 3.3000, 4.7000, 1.6000],\n         [4.9000, 2.4000, 3.3000, 1.0000],\n         [6.6000, 2.9000, 4.6000, 1.3000],\n         [5.2000, 2.7000, 3.9000, 1.4000],\n         [5.0000, 2.0000, 3.5000, 1.0000],\n         [5.9000, 3.0000, 4.2000, 1.5000],\n         [6.0000, 2.2000, 4.0000, 1.0000],\n         [6.1000, 2.9000, 4.7000, 1.4000],\n         [5.6000, 2.9000, 3.6000, 1.3000],\n         [6.7000, 3.1000, 4.4000, 1.4000],\n         [5.6000, 3.0000, 4.5000, 1.5000],\n         [5.8000, 2.7000, 4.1000, 1.0000],\n         [6.2000, 2.2000, 4.5000, 1.5000],\n         [5.6000, 2.5000, 3.9000, 1.1000],\n         [5.9000, 3.2000, 4.8000, 1.8000],\n         [6.1000, 2.8000, 4.0000, 1.3000],\n         [6.3000, 2.5000, 4.9000, 1.5000],\n         [6.1000, 2.8000, 4.7000, 1.2000],\n         [6.4000, 2.9000, 4.3000, 1.3000],\n         [6.6000, 3.0000, 4.4000, 1.4000],\n         [6.8000, 2.8000, 4.8000, 1.4000],\n         [6.7000, 3.0000, 5.0000, 1.7000],\n         [6.0000, 2.9000, 4.5000, 1.5000],\n         [5.7000, 2.6000, 3.5000, 1.0000],\n         [5.5000, 2.4000, 3.8000, 1.1000],\n         [5.5000, 2.4000, 3.7000, 1.0000],\n         [5.8000, 2.7000, 3.9000, 1.2000],\n         [6.0000, 2.7000, 5.1000, 1.6000],\n         [5.4000, 3.0000, 4.5000, 1.5000],\n         [6.0000, 3.4000, 4.5000, 1.6000],\n         [6.7000, 3.1000, 4.7000, 1.5000],\n         [6.3000, 2.3000, 4.4000, 1.3000],\n         [5.6000, 3.0000, 4.1000, 1.3000],\n         [5.5000, 2.5000, 4.0000, 1.3000],\n         [5.5000, 2.6000, 4.4000, 1.2000],\n         [6.1000, 3.0000, 4.6000, 1.4000],\n         [5.8000, 2.6000, 4.0000, 1.2000],\n         [5.0000, 2.3000, 3.3000, 1.0000],\n         [5.6000, 2.7000, 4.2000, 1.3000],\n         [5.7000, 3.0000, 4.2000, 1.2000],\n         [5.7000, 2.9000, 4.2000, 1.3000],\n         [6.2000, 2.9000, 4.3000, 1.3000],\n         [5.1000, 2.5000, 3.0000, 1.1000],\n         [5.7000, 2.8000, 4.1000, 1.3000],\n         [6.3000, 3.3000, 6.0000, 2.5000],\n         [5.8000, 2.7000, 5.1000, 1.9000],\n         [7.1000, 3.0000, 5.9000, 2.1000],\n         [6.3000, 2.9000, 5.6000, 1.8000],\n         [6.5000, 3.0000, 5.8000, 2.2000],\n         [7.6000, 3.0000, 6.6000, 2.1000],\n         [4.9000, 2.5000, 4.5000, 1.7000],\n         [7.3000, 2.9000, 6.3000, 1.8000],\n         [6.7000, 2.5000, 5.8000, 1.8000],\n         [7.2000, 3.6000, 6.1000, 2.5000],\n         [6.5000, 3.2000, 5.1000, 2.0000],\n         [6.4000, 2.7000, 5.3000, 1.9000],\n         [6.8000, 3.0000, 5.5000, 2.1000],\n         [5.7000, 2.5000, 5.0000, 2.0000],\n         [5.8000, 2.8000, 5.1000, 2.4000],\n         [6.4000, 3.2000, 5.3000, 2.3000],\n         [6.5000, 3.0000, 5.5000, 1.8000],\n         [7.7000, 3.8000, 6.7000, 2.2000],\n         [7.7000, 2.6000, 6.9000, 2.3000],\n         [6.0000, 2.2000, 5.0000, 1.5000],\n         [6.9000, 3.2000, 5.7000, 2.3000],\n         [5.6000, 2.8000, 4.9000, 2.0000],\n         [7.7000, 2.8000, 6.7000, 2.0000],\n         [6.3000, 2.7000, 4.9000, 1.8000],\n         [6.7000, 3.3000, 5.7000, 2.1000],\n         [7.2000, 3.2000, 6.0000, 1.8000],\n         [6.2000, 2.8000, 4.8000, 1.8000],\n         [6.1000, 3.0000, 4.9000, 1.8000],\n         [6.4000, 2.8000, 5.6000, 2.1000],\n         [7.2000, 3.0000, 5.8000, 1.6000],\n         [7.4000, 2.8000, 6.1000, 1.9000],\n         [7.9000, 3.8000, 6.4000, 2.0000],\n         [6.4000, 2.8000, 5.6000, 2.2000],\n         [6.3000, 2.8000, 5.1000, 1.5000],\n         [6.1000, 2.6000, 5.6000, 1.4000],\n         [7.7000, 3.0000, 6.1000, 2.3000],\n         [6.3000, 3.4000, 5.6000, 2.4000],\n         [6.4000, 3.1000, 5.5000, 1.8000],\n         [6.0000, 3.0000, 4.8000, 1.8000],\n         [6.9000, 3.1000, 5.4000, 2.1000],\n         [6.7000, 3.1000, 5.6000, 2.4000],\n         [6.9000, 3.1000, 5.1000, 2.3000],\n         [5.8000, 2.7000, 5.1000, 1.9000],\n         [6.8000, 3.2000, 5.9000, 2.3000],\n         [6.7000, 3.3000, 5.7000, 2.5000],\n         [6.7000, 3.0000, 5.2000, 2.3000],\n         [6.3000, 2.5000, 5.0000, 1.9000],\n         [6.5000, 3.0000, 5.2000, 2.0000],\n         [6.2000, 3.4000, 5.4000, 2.3000],\n         [5.9000, 3.0000, 5.1000, 1.8000]]),\n tensor([0, 0, 0, 0, 0, 0, 0, 0, 0, 0, 0, 0, 0, 0, 0, 0, 0, 0, 0, 0, 0, 0, 0, 0,\n         0, 0, 0, 0, 0, 0, 0, 0, 0, 0, 0, 0, 0, 0, 0, 0, 0, 0, 0, 0, 0, 0, 0, 0,\n         0, 0, 1, 1, 1, 1, 1, 1, 1, 1, 1, 1, 1, 1, 1, 1, 1, 1, 1, 1, 1, 1, 1, 1,\n         1, 1, 1, 1, 1, 1, 1, 1, 1, 1, 1, 1, 1, 1, 1, 1, 1, 1, 1, 1, 1, 1, 1, 1,\n         1, 1, 1, 1, 2, 2, 2, 2, 2, 2, 2, 2, 2, 2, 2, 2, 2, 2, 2, 2, 2, 2, 2, 2,\n         2, 2, 2, 2, 2, 2, 2, 2, 2, 2, 2, 2, 2, 2, 2, 2, 2, 2, 2, 2, 2, 2, 2, 2,\n         2, 2, 2, 2, 2, 2]))"
     },
     "execution_count": 236,
     "metadata": {},
     "output_type": "execute_result"
    }
   ],
   "source": [
    "x = torch.tensor(x, dtype=torch.float32)\n",
    "t = torch.tensor(t, dtype=torch.int64)\n",
    "x, t"
   ],
   "metadata": {
    "collapsed": false,
    "pycharm": {
     "name": "#%%\n"
    }
   }
  },
  {
   "cell_type": "code",
   "execution_count": 237,
   "outputs": [
    {
     "data": {
      "text/plain": "<torch.utils.data.dataset.TensorDataset at 0x16a1eaee0>"
     },
     "execution_count": 237,
     "metadata": {},
     "output_type": "execute_result"
    }
   ],
   "source": [
    "#TensorDataset: 入力データと教師データがセットのもの（セットにする関数）\n",
    "dataset = torch.utils.data.TensorDataset(x, t)\n",
    "dataset"
   ],
   "metadata": {
    "collapsed": false,
    "pycharm": {
     "name": "#%%\n"
    }
   }
  },
  {
   "cell_type": "code",
   "execution_count": 238,
   "outputs": [
    {
     "data": {
      "text/plain": "(tensor([5.1000, 3.5000, 1.4000, 0.2000]), tensor(0))"
     },
     "execution_count": 238,
     "metadata": {},
     "output_type": "execute_result"
    }
   ],
   "source": [
    "dataset[0]"
   ],
   "metadata": {
    "collapsed": false,
    "pycharm": {
     "name": "#%%\n"
    }
   }
  },
  {
   "cell_type": "code",
   "execution_count": 239,
   "outputs": [],
   "source": [
    "n_train = int(len(dataset) * 0.6)\n",
    "n_val = int(len(dataset) * 0.2)\n",
    "n_test = len(dataset) - n_train - n_val"
   ],
   "metadata": {
    "collapsed": false,
    "pycharm": {
     "name": "#%%\n"
    }
   }
  },
  {
   "cell_type": "code",
   "execution_count": 240,
   "outputs": [
    {
     "name": "stdout",
     "output_type": "stream",
     "text": [
      "90 30 30\n"
     ]
    }
   ],
   "source": [
    "print(n_train, n_val, n_test)"
   ],
   "metadata": {
    "collapsed": false,
    "pycharm": {
     "name": "#%%\n"
    }
   }
  },
  {
   "cell_type": "code",
   "execution_count": 241,
   "outputs": [],
   "source": [
    "torch.manual_seed(0)\n",
    "# torch.utils.data.random_split(dataset, lengths, generator=<torch._C.Generator object>)\n",
    "train, val, test = torch.utils.data.random_split(dataset, [n_train, n_val, n_test])"
   ],
   "metadata": {
    "collapsed": false,
    "pycharm": {
     "name": "#%%\n"
    }
   }
  },
  {
   "cell_type": "code",
   "execution_count": 242,
   "outputs": [],
   "source": [
    "batch_size = 10"
   ],
   "metadata": {
    "collapsed": false,
    "pycharm": {
     "name": "#%%\n"
    }
   }
  },
  {
   "cell_type": "markdown",
   "source": [],
   "metadata": {
    "collapsed": false,
    "pycharm": {
     "name": "#%% md\n"
    }
   }
  },
  {
   "cell_type": "code",
   "execution_count": 243,
   "outputs": [],
   "source": [
    "# DataLoader(): datasetからミニバッチを作成する関数\n",
    "# エポックが回るごとに各ミニバッチを構成するデータがランダムに入れ替わる\n",
    "train_loader = torch.utils.data.DataLoader(train, batch_size, shuffle=True)\n",
    "val_loader = torch.utils.data.DataLoader(val, batch_size)\n",
    "test_loader = torch.utils.data.DataLoader(test, batch_size)"
   ],
   "metadata": {
    "collapsed": false,
    "pycharm": {
     "name": "#%%\n"
    }
   }
  },
  {
   "cell_type": "code",
   "execution_count": 244,
   "outputs": [],
   "source": [
    "class Net(nn.Module):\n",
    "\n",
    "    # 使用するオブジェクトを定義\n",
    "    def __init__(self):\n",
    "        super(Net, self).__init__()\n",
    "        self.fc1 = nn.Linear(4, 4)\n",
    "        self.fc2 = nn.Linear(4, 3)\n",
    "\n",
    "    # 順伝播\n",
    "    def forward(self, x):\n",
    "        x = self.fc1(x)\n",
    "        x = F.relu(x)\n",
    "        x = self.fc2(x)\n",
    "        return x"
   ],
   "metadata": {
    "collapsed": false,
    "pycharm": {
     "name": "#%%\n"
    }
   }
  },
  {
   "cell_type": "code",
   "execution_count": 245,
   "outputs": [
    {
     "data": {
      "text/plain": "<torch._C.Generator at 0x165569410>"
     },
     "execution_count": 245,
     "metadata": {},
     "output_type": "execute_result"
    }
   ],
   "source": [
    "torch.manual_seed(0)"
   ],
   "metadata": {
    "collapsed": false,
    "pycharm": {
     "name": "#%%\n"
    }
   }
  },
  {
   "cell_type": "code",
   "execution_count": 246,
   "outputs": [],
   "source": [
    "net = Net()"
   ],
   "metadata": {
    "collapsed": false,
    "pycharm": {
     "name": "#%%\n"
    }
   }
  },
  {
   "cell_type": "code",
   "execution_count": 247,
   "outputs": [
    {
     "data": {
      "text/plain": "Net(\n  (fc1): Linear(in_features=4, out_features=4, bias=True)\n  (fc2): Linear(in_features=4, out_features=3, bias=True)\n)"
     },
     "execution_count": 247,
     "metadata": {},
     "output_type": "execute_result"
    }
   ],
   "source": [
    "net"
   ],
   "metadata": {
    "collapsed": false,
    "pycharm": {
     "name": "#%%\n"
    }
   }
  },
  {
   "cell_type": "code",
   "execution_count": 248,
   "outputs": [
    {
     "data": {
      "text/plain": "<function torch.nn.functional.cross_entropy(input: torch.Tensor, target: torch.Tensor, weight: Union[torch.Tensor, NoneType] = None, size_average: Union[bool, NoneType] = None, ignore_index: int = -100, reduce: Union[bool, NoneType] = None, reduction: str = 'mean', label_smoothing: float = 0.0) -> torch.Tensor>"
     },
     "execution_count": 248,
     "metadata": {},
     "output_type": "execute_result"
    }
   ],
   "source": [
    "criterion = F.cross_entropy\n",
    "criterion"
   ],
   "metadata": {
    "collapsed": false,
    "pycharm": {
     "name": "#%%\n"
    }
   }
  },
  {
   "cell_type": "code",
   "execution_count": 249,
   "outputs": [
    {
     "name": "stdout",
     "output_type": "stream",
     "text": [
      "hey Parameter containing:\n",
      "tensor([[-0.0037,  0.2682, -0.4115, -0.3680],\n",
      "        [-0.1926,  0.1341, -0.0099,  0.3964],\n",
      "        [-0.0444,  0.1323, -0.1511, -0.0983],\n",
      "        [-0.4777, -0.3311, -0.2061,  0.0185]], requires_grad=True)\n",
      "hey Parameter containing:\n",
      "tensor([ 0.1977,  0.3000, -0.3390, -0.2177], requires_grad=True)\n",
      "hey Parameter containing:\n",
      "tensor([[ 0.1816,  0.4152, -0.1029,  0.3742],\n",
      "        [-0.0806,  0.0529,  0.4527, -0.4638],\n",
      "        [-0.3148, -0.1266, -0.1949,  0.4320]], requires_grad=True)\n",
      "hey Parameter containing:\n",
      "tensor([-0.3241, -0.2302, -0.3493], requires_grad=True)\n"
     ]
    }
   ],
   "source": [
    "# net.parameters(): net内のパラメータを取得\n",
    "for parameter in iter(net.parameters()):\n",
    "    print(\"hey\", parameter)"
   ],
   "metadata": {
    "collapsed": false,
    "pycharm": {
     "name": "#%%\n"
    }
   }
  },
  {
   "cell_type": "code",
   "execution_count": 250,
   "outputs": [
    {
     "data": {
      "text/plain": "SGD (\nParameter Group 0\n    dampening: 0\n    foreach: None\n    lr: 0.1\n    maximize: False\n    momentum: 0\n    nesterov: False\n    weight_decay: 0\n)"
     },
     "execution_count": 250,
     "metadata": {},
     "output_type": "execute_result"
    }
   ],
   "source": [
    "# 最適化手法の選択\n",
    "optimizer = torch.optim.SGD(net.parameters(), lr=0.1)\n",
    "optimizer"
   ],
   "metadata": {
    "collapsed": false,
    "pycharm": {
     "name": "#%%\n"
    }
   }
  },
  {
   "cell_type": "code",
   "execution_count": 251,
   "outputs": [
    {
     "data": {
      "text/plain": "[tensor([[5.4000, 3.9000, 1.7000, 0.4000],\n         [4.6000, 3.6000, 1.0000, 0.2000],\n         [6.5000, 3.0000, 5.5000, 1.8000],\n         [6.9000, 3.1000, 5.4000, 2.1000],\n         [6.3000, 2.5000, 4.9000, 1.5000],\n         [7.1000, 3.0000, 5.9000, 2.1000],\n         [5.8000, 2.7000, 4.1000, 1.0000],\n         [7.0000, 3.2000, 4.7000, 1.4000],\n         [6.7000, 3.0000, 5.0000, 1.7000],\n         [7.2000, 3.6000, 6.1000, 2.5000]]),\n tensor([0, 0, 2, 2, 1, 2, 1, 1, 1, 2])]"
     },
     "execution_count": 251,
     "metadata": {},
     "output_type": "execute_result"
    }
   ],
   "source": [
    "# バッチサイズ分のサンプルの抽出\n",
    "batch = next(iter(train_loader))\n",
    "batch"
   ],
   "metadata": {
    "collapsed": false,
    "pycharm": {
     "name": "#%%\n"
    }
   }
  },
  {
   "cell_type": "code",
   "execution_count": 252,
   "outputs": [],
   "source": [
    "x, t = batch"
   ],
   "metadata": {
    "collapsed": false,
    "pycharm": {
     "name": "#%%\n"
    }
   }
  },
  {
   "cell_type": "code",
   "execution_count": 253,
   "outputs": [
    {
     "data": {
      "text/plain": "tensor([[-0.2557, -0.2605, -0.4679],\n        [-0.2041, -0.2834, -0.5574],\n        [-0.2786, -0.2244, -0.3632],\n        [-0.2552, -0.2214, -0.3703],\n        [-0.3241, -0.2302, -0.3493],\n        [-0.2788, -0.2244, -0.3631],\n        [-0.3241, -0.2302, -0.3493],\n        [-0.3241, -0.2302, -0.3493],\n        [-0.3090, -0.2282, -0.3539],\n        [-0.1884, -0.2129, -0.3907]], grad_fn=<AddmmBackward0>)"
     },
     "execution_count": 253,
     "metadata": {},
     "output_type": "execute_result"
    }
   ],
   "source": [
    "y = net(x)\n",
    "y"
   ],
   "metadata": {
    "collapsed": false,
    "pycharm": {
     "name": "#%%\n"
    }
   }
  },
  {
   "cell_type": "code",
   "execution_count": 254,
   "outputs": [
    {
     "data": {
      "text/plain": "tensor(1.0882, grad_fn=<NllLossBackward0>)"
     },
     "execution_count": 254,
     "metadata": {},
     "output_type": "execute_result"
    }
   ],
   "source": [
    "loss = criterion(y, t)\n",
    "loss"
   ],
   "metadata": {
    "collapsed": false,
    "pycharm": {
     "name": "#%%\n"
    }
   }
  },
  {
   "cell_type": "code",
   "execution_count": 255,
   "outputs": [
    {
     "data": {
      "text/plain": "Parameter containing:\ntensor([[-0.0037,  0.2682, -0.4115, -0.3680],\n        [-0.1926,  0.1341, -0.0099,  0.3964],\n        [-0.0444,  0.1323, -0.1511, -0.0983],\n        [-0.4777, -0.3311, -0.2061,  0.0185]], requires_grad=True)"
     },
     "execution_count": 255,
     "metadata": {},
     "output_type": "execute_result"
    }
   ],
   "source": [
    "net.fc1.weight"
   ],
   "metadata": {
    "collapsed": false,
    "pycharm": {
     "name": "#%%\n"
    }
   }
  },
  {
   "cell_type": "code",
   "execution_count": 256,
   "outputs": [],
   "source": [
    "net.fc1.weight.grad"
   ],
   "metadata": {
    "collapsed": false,
    "pycharm": {
     "name": "#%%\n"
    }
   }
  },
  {
   "cell_type": "code",
   "execution_count": 257,
   "outputs": [],
   "source": [
    "loss.backward()"
   ],
   "metadata": {
    "collapsed": false,
    "pycharm": {
     "name": "#%%\n"
    }
   }
  },
  {
   "cell_type": "code",
   "execution_count": 258,
   "outputs": [
    {
     "data": {
      "text/plain": "tensor([[-0.2311, -0.1731, -0.0627, -0.0139],\n        [ 0.7327,  0.3358,  0.6025,  0.2229],\n        [ 0.0000,  0.0000,  0.0000,  0.0000],\n        [ 0.0000,  0.0000,  0.0000,  0.0000]])"
     },
     "execution_count": 258,
     "metadata": {},
     "output_type": "execute_result"
    }
   ],
   "source": [
    "net.fc1.weight.grad"
   ],
   "metadata": {
    "collapsed": false,
    "pycharm": {
     "name": "#%%\n"
    }
   }
  },
  {
   "cell_type": "code",
   "execution_count": 259,
   "outputs": [],
   "source": [
    "optimizer.step()"
   ],
   "metadata": {
    "collapsed": false,
    "pycharm": {
     "name": "#%%\n"
    }
   }
  },
  {
   "cell_type": "code",
   "execution_count": 260,
   "outputs": [
    {
     "data": {
      "text/plain": "Parameter containing:\ntensor([[ 0.0194,  0.2855, -0.4053, -0.3666],\n        [-0.2659,  0.1005, -0.0702,  0.3742],\n        [-0.0444,  0.1323, -0.1511, -0.0983],\n        [-0.4777, -0.3311, -0.2061,  0.0185]], requires_grad=True)"
     },
     "execution_count": 260,
     "metadata": {},
     "output_type": "execute_result"
    }
   ],
   "source": [
    "net.fc1.weight"
   ],
   "metadata": {
    "collapsed": false,
    "pycharm": {
     "name": "#%%\n"
    }
   }
  },
  {
   "cell_type": "code",
   "execution_count": 261,
   "outputs": [],
   "source": [
    "max_epoch = 10"
   ],
   "metadata": {
    "collapsed": false,
    "pycharm": {
     "name": "#%%\n"
    }
   }
  },
  {
   "cell_type": "code",
   "execution_count": 262,
   "outputs": [
    {
     "data": {
      "text/plain": "device(type='cpu')"
     },
     "execution_count": 262,
     "metadata": {},
     "output_type": "execute_result"
    }
   ],
   "source": [
    "torch.manual_seed(0)\n",
    "device = torch.device('cuda:0' if torch.cuda.is_available() else 'cpu')\n",
    "net = Net().to(device)\n",
    "device"
   ],
   "metadata": {
    "collapsed": false,
    "pycharm": {
     "name": "#%%\n"
    }
   }
  },
  {
   "cell_type": "code",
   "execution_count": 263,
   "outputs": [],
   "source": [
    "optimizer = torch.optim.SGD(net.parameters(), lr=0.1)"
   ],
   "metadata": {
    "collapsed": false,
    "pycharm": {
     "name": "#%%\n"
    }
   }
  },
  {
   "cell_type": "code",
   "execution_count": 264,
   "outputs": [
    {
     "name": "stdout",
     "output_type": "stream",
     "text": [
      "0 [tensor([[5.4000, 3.9000, 1.7000, 0.4000],\n",
      "        [4.6000, 3.6000, 1.0000, 0.2000],\n",
      "        [6.5000, 3.0000, 5.5000, 1.8000],\n",
      "        [6.9000, 3.1000, 5.4000, 2.1000],\n",
      "        [6.3000, 2.5000, 4.9000, 1.5000],\n",
      "        [7.1000, 3.0000, 5.9000, 2.1000],\n",
      "        [5.8000, 2.7000, 4.1000, 1.0000],\n",
      "        [7.0000, 3.2000, 4.7000, 1.4000],\n",
      "        [6.7000, 3.0000, 5.0000, 1.7000],\n",
      "        [7.2000, 3.6000, 6.1000, 2.5000]]), tensor([0, 0, 2, 2, 1, 2, 1, 1, 1, 2])]\n",
      "1 [tensor([[6.9000, 3.2000, 5.7000, 2.3000],\n",
      "        [5.0000, 3.5000, 1.6000, 0.6000],\n",
      "        [6.9000, 3.1000, 4.9000, 1.5000],\n",
      "        [5.7000, 3.8000, 1.7000, 0.3000],\n",
      "        [4.4000, 2.9000, 1.4000, 0.2000],\n",
      "        [6.0000, 3.0000, 4.8000, 1.8000],\n",
      "        [5.1000, 3.8000, 1.9000, 0.4000],\n",
      "        [6.6000, 3.0000, 4.4000, 1.4000],\n",
      "        [4.7000, 3.2000, 1.3000, 0.2000],\n",
      "        [5.7000, 2.8000, 4.1000, 1.3000]]), tensor([2, 0, 1, 0, 0, 2, 0, 1, 0, 1])]\n",
      "2 [tensor([[5.5000, 3.5000, 1.3000, 0.2000],\n",
      "        [7.9000, 3.8000, 6.4000, 2.0000],\n",
      "        [4.7000, 3.2000, 1.6000, 0.2000],\n",
      "        [5.1000, 3.5000, 1.4000, 0.2000],\n",
      "        [6.1000, 3.0000, 4.9000, 1.8000],\n",
      "        [7.3000, 2.9000, 6.3000, 1.8000],\n",
      "        [7.2000, 3.0000, 5.8000, 1.6000],\n",
      "        [5.4000, 3.0000, 4.5000, 1.5000],\n",
      "        [5.5000, 2.3000, 4.0000, 1.3000],\n",
      "        [5.0000, 3.6000, 1.4000, 0.2000]]), tensor([0, 2, 0, 0, 2, 2, 2, 1, 1, 0])]\n",
      "3 [tensor([[4.4000, 3.2000, 1.3000, 0.2000],\n",
      "        [6.3000, 2.8000, 5.1000, 1.5000],\n",
      "        [6.5000, 3.0000, 5.2000, 2.0000],\n",
      "        [5.5000, 2.4000, 3.8000, 1.1000],\n",
      "        [5.0000, 3.4000, 1.6000, 0.4000],\n",
      "        [6.0000, 2.9000, 4.5000, 1.5000],\n",
      "        [6.3000, 2.5000, 5.0000, 1.9000],\n",
      "        [6.0000, 2.7000, 5.1000, 1.6000],\n",
      "        [6.1000, 2.8000, 4.0000, 1.3000],\n",
      "        [6.3000, 3.4000, 5.6000, 2.4000]]), tensor([0, 2, 2, 1, 0, 1, 2, 1, 1, 2])]\n",
      "4 [tensor([[6.9000, 3.1000, 5.1000, 2.3000],\n",
      "        [6.2000, 2.9000, 4.3000, 1.3000],\n",
      "        [4.9000, 2.5000, 4.5000, 1.7000],\n",
      "        [5.4000, 3.4000, 1.7000, 0.2000],\n",
      "        [5.7000, 3.0000, 4.2000, 1.2000],\n",
      "        [7.7000, 3.8000, 6.7000, 2.2000],\n",
      "        [5.2000, 3.5000, 1.5000, 0.2000],\n",
      "        [5.9000, 3.0000, 5.1000, 1.8000],\n",
      "        [6.7000, 3.1000, 4.4000, 1.4000],\n",
      "        [5.6000, 2.5000, 3.9000, 1.1000]]), tensor([2, 1, 2, 0, 1, 2, 0, 2, 1, 1])]\n",
      "5 [tensor([[5.0000, 3.0000, 1.6000, 0.2000],\n",
      "        [5.0000, 3.3000, 1.4000, 0.2000],\n",
      "        [6.4000, 2.8000, 5.6000, 2.1000],\n",
      "        [6.4000, 3.2000, 5.3000, 2.3000],\n",
      "        [6.4000, 2.7000, 5.3000, 1.9000],\n",
      "        [4.8000, 3.4000, 1.6000, 0.2000],\n",
      "        [6.4000, 2.8000, 5.6000, 2.2000],\n",
      "        [5.3000, 3.7000, 1.5000, 0.2000],\n",
      "        [7.4000, 2.8000, 6.1000, 1.9000],\n",
      "        [5.5000, 2.6000, 4.4000, 1.2000]]), tensor([0, 0, 2, 2, 2, 0, 2, 0, 2, 1])]\n",
      "6 [tensor([[5.8000, 2.7000, 5.1000, 1.9000],\n",
      "        [5.0000, 3.2000, 1.2000, 0.2000],\n",
      "        [6.7000, 3.1000, 5.6000, 2.4000],\n",
      "        [6.7000, 3.3000, 5.7000, 2.1000],\n",
      "        [6.0000, 3.4000, 4.5000, 1.6000],\n",
      "        [4.4000, 3.0000, 1.3000, 0.2000],\n",
      "        [5.4000, 3.4000, 1.5000, 0.4000],\n",
      "        [4.6000, 3.2000, 1.4000, 0.2000],\n",
      "        [6.5000, 2.8000, 4.6000, 1.5000],\n",
      "        [5.6000, 2.9000, 3.6000, 1.3000]]), tensor([2, 0, 2, 2, 1, 0, 0, 0, 1, 1])]\n",
      "7 [tensor([[6.6000, 2.9000, 4.6000, 1.3000],\n",
      "        [6.1000, 2.8000, 4.7000, 1.2000],\n",
      "        [6.0000, 2.2000, 5.0000, 1.5000],\n",
      "        [5.7000, 4.4000, 1.5000, 0.4000],\n",
      "        [5.6000, 2.8000, 4.9000, 2.0000],\n",
      "        [5.6000, 3.0000, 4.5000, 1.5000],\n",
      "        [5.7000, 2.6000, 3.5000, 1.0000],\n",
      "        [5.0000, 3.5000, 1.3000, 0.3000],\n",
      "        [5.1000, 2.5000, 3.0000, 1.1000],\n",
      "        [5.8000, 2.7000, 5.1000, 1.9000]]), tensor([1, 1, 2, 0, 2, 1, 1, 0, 1, 2])]\n",
      "8 [tensor([[6.0000, 2.2000, 4.0000, 1.0000],\n",
      "        [6.3000, 2.3000, 4.4000, 1.3000],\n",
      "        [4.9000, 3.6000, 1.4000, 0.1000],\n",
      "        [7.7000, 3.0000, 6.1000, 2.3000],\n",
      "        [5.6000, 2.7000, 4.2000, 1.3000],\n",
      "        [6.2000, 3.4000, 5.4000, 2.3000],\n",
      "        [5.0000, 3.4000, 1.5000, 0.2000],\n",
      "        [6.7000, 2.5000, 5.8000, 1.8000],\n",
      "        [5.9000, 3.0000, 4.2000, 1.5000],\n",
      "        [6.4000, 2.9000, 4.3000, 1.3000]]), tensor([1, 1, 0, 2, 1, 2, 0, 2, 1, 1])]\n"
     ]
    }
   ],
   "source": [
    "i = 0\n",
    "for batch in train_loader:\n",
    "    print(i, batch)\n",
    "    i += 1"
   ],
   "metadata": {
    "collapsed": false,
    "pycharm": {
     "name": "#%%\n"
    }
   }
  },
  {
   "cell_type": "code",
   "execution_count": 265,
   "outputs": [
    {
     "name": "stdout",
     "output_type": "stream",
     "text": [
      "epoch: 0\n",
      "loss:  1.0581324100494385\n",
      "loss:  1.0727126598358154\n",
      "loss:  1.0202516317367554\n",
      "loss:  1.0485258102416992\n",
      "loss:  1.0162084102630615\n",
      "loss:  0.9349002838134766\n",
      "loss:  0.9057324528694153\n",
      "loss:  0.8178885579109192\n",
      "loss:  1.0845533609390259\n",
      "epoch: 1\n",
      "loss:  1.0116767883300781\n",
      "loss:  0.857082188129425\n",
      "loss:  0.8416250348091125\n",
      "loss:  0.7966195940971375\n",
      "loss:  0.7857252359390259\n",
      "loss:  0.922939658164978\n",
      "loss:  0.9749234914779663\n",
      "loss:  0.8454588055610657\n",
      "loss:  0.8937383890151978\n",
      "epoch: 2\n",
      "loss:  0.6872373819351196\n",
      "loss:  0.8026294708251953\n",
      "loss:  0.7394832372665405\n",
      "loss:  0.8636043667793274\n",
      "loss:  0.9335452914237976\n",
      "loss:  0.88116854429245\n",
      "loss:  0.8509734272956848\n",
      "loss:  0.7113741636276245\n",
      "loss:  0.6560307741165161\n",
      "epoch: 3\n",
      "loss:  0.7626632452011108\n",
      "loss:  0.8948764801025391\n",
      "loss:  0.6187215447425842\n",
      "loss:  0.7431216239929199\n",
      "loss:  0.8829702138900757\n",
      "loss:  0.7989763021469116\n",
      "loss:  0.8024595975875854\n",
      "loss:  0.6409597396850586\n",
      "loss:  0.4654276967048645\n",
      "epoch: 4\n",
      "loss:  0.7533935308456421\n",
      "loss:  0.670803964138031\n",
      "loss:  0.6760141849517822\n",
      "loss:  0.8321263194084167\n",
      "loss:  0.6456236839294434\n",
      "loss:  0.7689186930656433\n",
      "loss:  0.45075932145118713\n",
      "loss:  0.7607020735740662\n",
      "loss:  0.6858261823654175\n",
      "epoch: 5\n",
      "loss:  0.7318097352981567\n",
      "loss:  0.5111919045448303\n",
      "loss:  0.4875619411468506\n",
      "loss:  0.7577106952667236\n",
      "loss:  0.5638569593429565\n",
      "loss:  0.7691009640693665\n",
      "loss:  0.7309926748275757\n",
      "loss:  0.658173680305481\n",
      "loss:  0.7292430996894836\n",
      "epoch: 6\n",
      "loss:  0.33068352937698364\n",
      "loss:  0.7373418807983398\n",
      "loss:  0.6279596090316772\n",
      "loss:  0.5442594289779663\n",
      "loss:  0.7438622713088989\n",
      "loss:  0.6220954060554504\n",
      "loss:  0.6304777264595032\n",
      "loss:  0.7740373015403748\n",
      "loss:  0.7135192155838013\n",
      "epoch: 7\n",
      "loss:  0.6457599997520447\n",
      "loss:  0.6215518712997437\n",
      "loss:  0.4602201581001282\n",
      "loss:  0.6244834661483765\n",
      "loss:  0.5335458517074585\n",
      "loss:  0.6833797693252563\n",
      "loss:  0.5401440858840942\n",
      "loss:  0.8520293235778809\n",
      "loss:  0.5992035865783691\n",
      "epoch: 8\n",
      "loss:  0.5272623300552368\n",
      "loss:  0.772372841835022\n",
      "loss:  0.45095890760421753\n",
      "loss:  0.6704007387161255\n",
      "loss:  0.4367154538631439\n",
      "loss:  0.5908859968185425\n",
      "loss:  0.7028075456619263\n",
      "loss:  0.5924109816551208\n",
      "loss:  0.6703131794929504\n",
      "epoch: 9\n",
      "loss:  0.6083482503890991\n",
      "loss:  0.6756632328033447\n",
      "loss:  0.5139328241348267\n",
      "loss:  0.5134949088096619\n",
      "loss:  0.5771850943565369\n",
      "loss:  0.5841413736343384\n",
      "loss:  0.6551469564437866\n",
      "loss:  0.6017897725105286\n",
      "loss:  0.5760772228240967\n"
     ]
    }
   ],
   "source": [
    "i = 0\n",
    "# 学習ループ\n",
    "for epoch in range(max_epoch):\n",
    "\n",
    "    print(f\"epoch: {i}\")\n",
    "    i += 1\n",
    "    for batch in train_loader:\n",
    "\n",
    "        # バッチサイズ分のサンプルを抽出\n",
    "        x, t = batch\n",
    "\n",
    "        # 学習時に使用するデバイスへデータの転送\n",
    "        x = x.to(device)\n",
    "        t = t.to(device)\n",
    "\n",
    "        # パラメータの勾配を初期化\n",
    "        optimizer.zero_grad()\n",
    "\n",
    "        # 予測値の算出\n",
    "        y = net(x)\n",
    "\n",
    "        # 目標値と予測値から目的関数の値を算出\n",
    "        loss = criterion(y, t)\n",
    "\n",
    "        # 目的関数の値を表示して確認\n",
    "        # item(): tensot.Tensor => float\n",
    "        print('loss: ', loss.item())\n",
    "\n",
    "        # 各パラメータの勾配を算出\n",
    "        loss.backward()\n",
    "\n",
    "        # 勾配の情報を用いたパラメータの更新\n",
    "        optimizer.step()"
   ],
   "metadata": {
    "collapsed": false,
    "pycharm": {
     "name": "#%%\n"
    }
   }
  },
  {
   "cell_type": "code",
   "execution_count": 266,
   "outputs": [
    {
     "data": {
      "text/plain": "tensor([0, 0, 2, 0, 2, 2, 2, 2, 2, 2])"
     },
     "execution_count": 266,
     "metadata": {},
     "output_type": "execute_result"
    }
   ],
   "source": [
    "y_label = torch.argmax(y, dim=1)\n",
    "y_label"
   ],
   "metadata": {
    "collapsed": false,
    "pycharm": {
     "name": "#%%\n"
    }
   }
  },
  {
   "cell_type": "code",
   "execution_count": 267,
   "outputs": [
    {
     "data": {
      "text/plain": "tensor([0, 0, 1, 0, 2, 1, 2, 2, 1, 2])"
     },
     "execution_count": 267,
     "metadata": {},
     "output_type": "execute_result"
    }
   ],
   "source": [
    "t"
   ],
   "metadata": {
    "collapsed": false,
    "pycharm": {
     "name": "#%%\n"
    }
   }
  },
  {
   "cell_type": "code",
   "execution_count": 268,
   "outputs": [
    {
     "data": {
      "text/plain": "tensor([ True,  True, False,  True,  True, False,  True,  True, False,  True])"
     },
     "execution_count": 268,
     "metadata": {},
     "output_type": "execute_result"
    }
   ],
   "source": [
    "y_label == t"
   ],
   "metadata": {
    "collapsed": false,
    "pycharm": {
     "name": "#%%\n"
    }
   }
  },
  {
   "cell_type": "code",
   "execution_count": 269,
   "outputs": [],
   "source": [
    "# モデルの初期化\n",
    "torch.manual_seed(0)\n",
    "\n",
    "# モデルのインスタンス化とデバイスへの転送\n",
    "net = Net().to(device)\n",
    "\n",
    "# 最適化手法の選択\n",
    "optimizer = torch.optim.SGD(net.parameters(), lr=0.1)"
   ],
   "metadata": {
    "collapsed": false,
    "pycharm": {
     "name": "#%%\n"
    }
   }
  },
  {
   "cell_type": "code",
   "execution_count": 270,
   "outputs": [
    {
     "name": "stdout",
     "output_type": "stream",
     "text": [
      "accuracy: tensor(0.6000)\n",
      "accuracy: tensor(0.8000)\n",
      "accuracy: tensor(0.6000)\n",
      "accuracy: tensor(0.6000)\n",
      "accuracy: tensor(0.6000)\n",
      "accuracy: tensor(0.5000)\n",
      "accuracy: tensor(0.4000)\n",
      "accuracy: tensor(0.2000)\n",
      "accuracy: tensor(0.4000)\n",
      "accuracy: tensor(0.7000)\n",
      "accuracy: tensor(0.2000)\n",
      "accuracy: tensor(0.8000)\n",
      "accuracy: tensor(0.5000)\n",
      "accuracy: tensor(0.6000)\n",
      "accuracy: tensor(0.6000)\n",
      "accuracy: tensor(0.4000)\n",
      "accuracy: tensor(0.8000)\n",
      "accuracy: tensor(0.2000)\n",
      "accuracy: tensor(0.5000)\n",
      "accuracy: tensor(1.)\n",
      "accuracy: tensor(0.7000)\n",
      "accuracy: tensor(0.9000)\n",
      "accuracy: tensor(0.7000)\n",
      "accuracy: tensor(0.6000)\n",
      "accuracy: tensor(0.5000)\n",
      "accuracy: tensor(0.7000)\n",
      "accuracy: tensor(0.7000)\n",
      "accuracy: tensor(0.8000)\n",
      "accuracy: tensor(0.6000)\n",
      "accuracy: tensor(1.)\n",
      "accuracy: tensor(0.6000)\n",
      "accuracy: tensor(0.7000)\n",
      "accuracy: tensor(0.4000)\n",
      "accuracy: tensor(0.8000)\n",
      "accuracy: tensor(0.6000)\n",
      "accuracy: tensor(0.9000)\n",
      "accuracy: tensor(0.7000)\n",
      "accuracy: tensor(0.7000)\n",
      "accuracy: tensor(0.7000)\n",
      "accuracy: tensor(0.9000)\n",
      "accuracy: tensor(0.8000)\n",
      "accuracy: tensor(0.6000)\n",
      "accuracy: tensor(0.7000)\n",
      "accuracy: tensor(0.8000)\n",
      "accuracy: tensor(1.)\n",
      "accuracy: tensor(0.9000)\n",
      "accuracy: tensor(0.8000)\n",
      "accuracy: tensor(0.7000)\n",
      "accuracy: tensor(0.3000)\n",
      "accuracy: tensor(0.4000)\n",
      "accuracy: tensor(0.8000)\n",
      "accuracy: tensor(0.9000)\n",
      "accuracy: tensor(1.)\n",
      "accuracy: tensor(0.8000)\n",
      "accuracy: tensor(0.7000)\n",
      "accuracy: tensor(0.9000)\n",
      "accuracy: tensor(0.7000)\n",
      "accuracy: tensor(0.7000)\n",
      "accuracy: tensor(0.9000)\n",
      "accuracy: tensor(0.5000)\n",
      "accuracy: tensor(0.7000)\n",
      "accuracy: tensor(0.6000)\n",
      "accuracy: tensor(0.5000)\n",
      "accuracy: tensor(0.8000)\n",
      "accuracy: tensor(1.)\n",
      "accuracy: tensor(0.8000)\n",
      "accuracy: tensor(0.9000)\n",
      "accuracy: tensor(0.3000)\n",
      "accuracy: tensor(0.7000)\n",
      "accuracy: tensor(1.)\n",
      "accuracy: tensor(0.7000)\n",
      "accuracy: tensor(0.6000)\n",
      "accuracy: tensor(0.4000)\n",
      "accuracy: tensor(0.9000)\n",
      "accuracy: tensor(0.8000)\n",
      "accuracy: tensor(0.7000)\n",
      "accuracy: tensor(0.8000)\n",
      "accuracy: tensor(0.8000)\n",
      "accuracy: tensor(0.5000)\n",
      "accuracy: tensor(0.9000)\n",
      "accuracy: tensor(0.7000)\n",
      "accuracy: tensor(0.9000)\n",
      "accuracy: tensor(0.7000)\n",
      "accuracy: tensor(0.8000)\n",
      "accuracy: tensor(0.7000)\n",
      "accuracy: tensor(0.8000)\n",
      "accuracy: tensor(0.7000)\n",
      "accuracy: tensor(0.4000)\n",
      "accuracy: tensor(0.6000)\n",
      "accuracy: tensor(0.7000)\n"
     ]
    }
   ],
   "source": [
    "for epoch in range(max_epoch):\n",
    "\n",
    "    for batch in train_loader:\n",
    "\n",
    "        x, t = batch\n",
    "        x = x.to(device)\n",
    "        t = t.to(device)\n",
    "        optimizer.zero_grad()\n",
    "        y = net(x)\n",
    "        loss = criterion(y, t)\n",
    "\n",
    "        # New：正解率の算出\n",
    "        y_label = torch.argmax(y, dim=1)\n",
    "        acc  = torch.sum(y_label == t) * 1.0 / len(t)\n",
    "        print('accuracy:', acc)\n",
    "\n",
    "        loss.backward()\n",
    "        optimizer.step()"
   ],
   "metadata": {
    "collapsed": false,
    "pycharm": {
     "name": "#%%\n"
    }
   }
  },
  {
   "cell_type": "code",
   "execution_count": 270,
   "outputs": [],
   "source": [],
   "metadata": {
    "collapsed": false,
    "pycharm": {
     "name": "#%%\n"
    }
   }
  }
 ],
 "metadata": {
  "kernelspec": {
   "display_name": "Python 3",
   "language": "python",
   "name": "python3"
  },
  "language_info": {
   "codemirror_mode": {
    "name": "ipython",
    "version": 2
   },
   "file_extension": ".py",
   "mimetype": "text/x-python",
   "name": "python",
   "nbconvert_exporter": "python",
   "pygments_lexer": "ipython2",
   "version": "2.7.6"
  }
 },
 "nbformat": 4,
 "nbformat_minor": 0
}